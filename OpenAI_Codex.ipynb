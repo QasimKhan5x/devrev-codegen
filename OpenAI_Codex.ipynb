{
  "cells": [
    {
      "cell_type": "markdown",
      "metadata": {
        "colab_type": "text",
        "id": "view-in-github"
      },
      "source": [
        "<a href=\"https://colab.research.google.com/github/QasimKhan5x/devrev-openai-codegen-codex/blob/main/OpenAI_Codex.ipynb\" target=\"_parent\"><img src=\"https://colab.research.google.com/assets/colab-badge.svg\" alt=\"Open In Colab\"/></a>"
      ]
    },
    {
      "cell_type": "code",
      "execution_count": null,
      "metadata": {
        "id": "xbxewwwCJzsB"
      },
      "outputs": [],
      "source": [
        "#!pip install -U pip setuptools wheel\n",
        "#!pip install -U spacy\n",
        "#!python -m spacy download en_core_web_sm\n",
        "#!pip install python-dotenv\n",
        "%pip install openai"
      ]
    },
    {
      "cell_type": "code",
      "execution_count": 1,
      "metadata": {
        "id": "hDXd_KzSXio_"
      },
      "outputs": [],
      "source": [
        "import openai"
      ]
    },
    {
      "cell_type": "markdown",
      "metadata": {
        "id": "Xi9Jn1ywKWgQ"
      },
      "source": [
        "```\n",
        "import os\n",
        "from dotenv import load_dotenv\n",
        "\n",
        "load_dotenv()  # take environment variables from .env.\n",
        "\n",
        "openai.api_key = os.environ.get(\"OPENAI_API_KEY\")\n",
        "```"
      ]
    },
    {
      "cell_type": "code",
      "execution_count": 2,
      "metadata": {
        "id": "mmTL8oIfXkUX"
      },
      "outputs": [],
      "source": [
        "openai.api_key = \"\""
      ]
    },
    {
      "cell_type": "code",
      "execution_count": 144,
      "metadata": {
        "id": "ZQY9y77w7bw8"
      },
      "outputs": [],
      "source": [
        "def get_code(prompt, temperature=0, max_tokens=64, frequency_penalty=0, best_of=1):\n",
        "    prompt = f'\"\"\"{prompt}\"\"\"'\n",
        "    result = openai.Completion.create(\n",
        "        engine=\"code-davinci-001\",\n",
        "        prompt=prompt,\n",
        "        temperature=temperature,\n",
        "        max_tokens=max_tokens,\n",
        "        frequency_penalty=frequency_penalty,\n",
        "        best_of=best_of\n",
        "        )\n",
        "    code = result[\"choices\"][0][\"text\"].split(\"\\n\")\n",
        "    code = list(filter(lambda x: x != '', code))\n",
        "    return code"
      ]
    },
    {
      "cell_type": "code",
      "execution_count": 14,
      "metadata": {
        "colab": {
          "base_uri": "https://localhost:8080/"
        },
        "id": "C7Z7U6ZGUvgE",
        "outputId": "ef5f5f37-2937-45c5-a895-5f48dbbaae65"
      },
      "outputs": [
        {
          "name": "stdout",
          "output_type": "stream",
          "text": [
            "import datetime\n",
            "def get_date():\n",
            "    \"\"\"Get the date of today and one month before today\"\"\"\n",
            "    today = datetime.date.today()\n",
            "    one_month_before = today - datetime.timedelta(days=30)\n",
            "    return one_month_before\n"
          ]
        }
      ],
      "source": [
        "prompt = 'Python code to get the date of today and one month before today'\n",
        "code = get_code(prompt)\n",
        "for line in code:\n",
        "    print(line)"
      ]
    },
    {
      "cell_type": "code",
      "execution_count": 58,
      "metadata": {
        "colab": {
          "base_uri": "https://localhost:8080/"
        },
        "id": "Kn5qetqg-JFF",
        "outputId": "ad4e7fdc-16b6-4a6b-8271-f940ed1739b0"
      },
      "outputs": [
        {
          "name": "stdout",
          "output_type": "stream",
          "text": [
            "import re\n",
            "import sys\n",
            "import json\n",
            "#Read the AFINN-111 data into a dictionary\n",
            "def sentiment_dict(afinnfile):\n",
            "    afinnfile = open(sys.argv[1])\n",
            "    scores = {} # initialize an empty dictionary\n",
            "    for line in afinnfile:\n",
            "        term, score  = line.split(\"\\t\")  # The file is tab-delimited. \"\\t\" means \"tab character\"\n",
            "        scores[term] = int(score)  # Convert the score to an integer.\n",
            "    return scores\n",
            "#Classify the sentiment of a tweet based on the sentiment scores of the terms in the tweet\n",
            "def tweet_sentiment(tweet, scores):\n",
            "    tweet_score = 0\n",
            "    for term in tweet:\n",
            "        if term in scores:\n",
            "            tweet_score += scores[term]\n",
            "    return tweet_score\n",
            "#Read the tweets into a list\n",
            "def tweet_dict(tweet_file):\n",
            "    tweets = []\n",
            "    for line in tweet_file:\n",
            "        tweets.append(json.loads(line))\n",
            "    return tweets\n",
            "def main():\n",
            "    sent_file =\n"
          ]
        }
      ],
      "source": [
        "prompt = '''Write a function that classifies the sentiment of a tweet'''\n",
        "code = get_code(prompt, temperature=0.25, max_tokens=256)\n",
        "for line in code:\n",
        "    print(line)"
      ]
    },
    {
      "cell_type": "code",
      "execution_count": 54,
      "metadata": {
        "colab": {
          "base_uri": "https://localhost:8080/"
        },
        "id": "TqTCKS4dEnUh",
        "outputId": "4fbf7dce-f085-4309-eac2-800c72e58a78"
      },
      "outputs": [
        {
          "name": "stdout",
          "output_type": "stream",
          "text": [
            "import re\n",
            "def dfa_to_regex(dfa):\n",
            "    # Write your code here\n",
            "    # To print results to the standard output you can use print\n",
            "    # Example: print \"Hello world!\"\n",
            "    # TODO: Implement the conversion from DFA to regular expression\n",
            "    # and return the regular expression\n",
            "    return \"^(0|1)*$\"\n"
          ]
        }
      ],
      "source": [
        "prompt = '''\n",
        "Input is an object representing a Deterministic Finite Automation.\n",
        "Write a function that converts the Deterministic Finite Automation to a regular expression\n",
        "Return the regular expression\n",
        "'''\n",
        "code = get_code(prompt, temperature=0.25, max_tokens=256)\n",
        "for line in code:\n",
        "    print(line)"
      ]
    },
    {
      "cell_type": "code",
      "execution_count": 26,
      "metadata": {
        "colab": {
          "base_uri": "https://localhost:8080/"
        },
        "id": "DpJX6PRBAWRk",
        "outputId": "0b3058ca-7c99-4b53-a9a7-dd9f454d4ae9"
      },
      "outputs": [
        {
          "name": "stdout",
          "output_type": "stream",
          "text": [
            "import pandas as pd\n",
            "months = pd.DataFrame([\"January\", \"February\", \"March\", \"April\", \"May\", \"June\", \"July\", \"August\", \"September\", \"October\", \"November\", \"December\"], columns=[\"Month\"])\n",
            "print(months)\n"
          ]
        }
      ],
      "source": [
        "prompt = 'Use pandas to create a dataframe containing the names of all months'\n",
        "code = get_code(prompt, temperature=0.1, max_tokens=128, enclose=True)\n",
        "for line in code:\n",
        "    print(line)"
      ]
    },
    {
      "cell_type": "code",
      "execution_count": null,
      "metadata": {
        "id": "DwjUO7f4_Y-G"
      },
      "outputs": [],
      "source": [
        "prompt = 'PyTorch implementation for the Vision Transformer trained on ImageNet dataset'\n",
        "code = get_code(prompt, temperature=0.1, max_tokens=2048, enclose=True)\n",
        "for line in code:\n",
        "    print(line)"
      ]
    },
    {
      "cell_type": "code",
      "execution_count": 61,
      "metadata": {
        "colab": {
          "base_uri": "https://localhost:8080/"
        },
        "id": "fY9dja9YAyaO",
        "outputId": "9afb654f-5b67-491c-97dc-9ea90f2c34e4"
      },
      "outputs": [
        {
          "name": "stdout",
          "output_type": "stream",
          "text": [
            "class HelloWorld(ReactComponent):\n",
            "    def render(self):\n",
            "        return 'Hello ', self.props.name\n",
            "hello = HelloWorld(name='World')\n",
            "hello.render()\n",
            "\"\"\"// React version:\n",
            "var HelloWorld = React.createClass({\n",
            "  render: function() {\n",
            "    return 'Hello ', this.props.name;\n",
            "  }\n",
            "});\n",
            "var hello = <HelloWorld name=\"World\" />;\n",
            "React.render(hello, document.body);\n",
            "\"\"\"\n"
          ]
        }
      ],
      "source": [
        "prompt = '''// Rewrite this as a React component\n",
        "var input = document.createElement('input');\n",
        "input.setAttribute('type', 'text');\n",
        "document.body.appendChild(input);\n",
        "var button = document.createElement('button');\n",
        "button.innerHTML = 'Say Hello';\n",
        "document.body.appendChild(button);\n",
        "button.onclick = function() {\n",
        "  var name = input.value;\n",
        "  var hello = document.createElement('div');\n",
        "  hello.innerHTML = 'Hello ' + name;\n",
        "  document.body.appendChild(hello);\n",
        "};\n",
        "\n",
        "// React version:\n",
        "'''\n",
        "code = get_code(prompt, temperature=0, max_tokens=256)\n",
        "for line in code:\n",
        "    print(line)"
      ]
    },
    {
      "cell_type": "code",
      "execution_count": 67,
      "metadata": {
        "colab": {
          "base_uri": "https://localhost:8080/"
        },
        "id": "CkmutZY-CT79",
        "outputId": "2894327f-a195-4d26-ca50-d592c7733d14"
      },
      "outputs": [
        {
          "name": "stdout",
          "output_type": "stream",
          "text": [
            "    Write unit tests for the function bisection\n",
            "\"\"\"\n",
            "    assert bisection(lambda x: x**2 - 1, -2, 0, 0.001) == None\n",
            "    assert bisection(lambda x: x**2 - 1, 0, 2, 0.001) == 1.0\n",
            "    assert bisection(lambda x: x**2 - 1, -2, 2, 0.001) == 1.0\n",
            "    assert bisection(lambda x: x**2 - 1, -2, 0, 0.001) == None\n",
            "    assert bisection(lambda x:\n"
          ]
        }
      ],
      "source": [
        "prompt = '''\n",
        "def bisection(f, a, b, e):\n",
        "    # this function uses the bisection method to find the root of a function between a and b\n",
        "    # f is a polynomial function\n",
        "    # a is the lower bound\n",
        "    # b is the upper bound\n",
        "    # e is the tolerance\n",
        "    if f(a) * f(b) > 0:\n",
        "        return None\n",
        "    p0 = None\n",
        "    while True:\n",
        "        p = (a+b)/2\n",
        "        if f(p) * f(b) < 0:\n",
        "            a = p\n",
        "        elif f(a) * f(p) < 0:\n",
        "            b = p\n",
        "        else:\n",
        "            return p\n",
        "        if p0 != None and abs(f(p) - f(p0)) < e:\n",
        "            return p\n",
        "        p0 = p\n",
        "\n",
        "# Write unit tests for the function bisection\n",
        "def test_bisection():\n",
        "'''\n",
        "code = get_code(prompt, temperature=0.3, max_tokens=128)\n",
        "for line in code:\n",
        "    print(line)"
      ]
    },
    {
      "cell_type": "code",
      "execution_count": 94,
      "metadata": {
        "colab": {
          "base_uri": "https://localhost:8080/"
        },
        "id": "X6VCviveOuPN",
        "outputId": "53f4b2e8-926b-4880-c0ed-1a1307ff6a96"
      },
      "outputs": [
        {
          "name": "stdout",
          "output_type": "stream",
          "text": [
            "def check(n):\n",
            "    return n - 1 == int(str(n)[::-1])\n",
            "\"\"\"\n",
            "# Write the check function\n"
          ]
        }
      ],
      "source": [
        "prompt = '''\n",
        "def check(n):\n",
        "    rev = int(str(n)[::-1])\n",
        "    if n - 1 == 2 * rev:\n",
        "        return True\n",
        "    else:\n",
        "        return False\n",
        "\n",
        "# Write the check function using one line only\n",
        "'''\n",
        "code = get_code(prompt, temperature=0.3, max_tokens=32, frequency_penalty=0.5)\n",
        "for line in code:\n",
        "    print(line)"
      ]
    },
    {
      "cell_type": "code",
      "execution_count": 96,
      "metadata": {
        "colab": {
          "base_uri": "https://localhost:8080/"
        },
        "id": "by59P7CtYAWA",
        "outputId": "1854fbcd-28b4-4d0a-aa84-15344054c8b3"
      },
      "outputs": [
        {
          "name": "stdout",
          "output_type": "stream",
          "text": [
            "def check(n):\n",
            "    return n - 1 == int(str(n)[::-1])\n",
            "   \n",
            "assert check(70) ==\n"
          ]
        }
      ],
      "source": [
        "prompt = '''\n",
        "##### Fix bugs in the below function\n",
        "def check(n):\n",
        "    # Write a python function to check if a given number is \n",
        "    # one less than twice the value of its reverse. Your code should \n",
        "    # satisfy these tests:\n",
        "    # assert check(70) == False\n",
        "    # assert check(23) == False\n",
        "    # assert check(73) == True\n",
        "    return n - 1 == int(str(n)[::-1])\n",
        "   \n",
        "### Fixed check\n",
        "'''\n",
        "code = get_code(prompt, temperature=0.3, max_tokens=32, frequency_penalty=0.5)\n",
        "for line in code:\n",
        "    print(line)"
      ]
    },
    {
      "cell_type": "code",
      "execution_count": 95,
      "metadata": {
        "colab": {
          "base_uri": "https://localhost:8080/"
        },
        "id": "JinwtTqVXhBf",
        "outputId": "65aafef1-188d-4b03-d4ed-5e992349d31a"
      },
      "outputs": [
        {
          "name": "stdout",
          "output_type": "stream",
          "text": [
            "def smallest_missing(lst, start, end):\n",
            "    if lst[start] != start:\n",
            "        return start\n",
            "    if lst[end] == end:\n",
            "        return end + 1\n",
            "    mid = (start + end) // 2\n",
            "    if lst[mid] == mid:\n",
            "        return smallest_missing(lst, mid + 1, end)\n",
            "    else:  # lst[mid] < mid:\n",
            "        return smallest_missing(lst, start, mid)\n",
            "def test_smallest_missing():\n",
            "    assert smallest_missing\n"
          ]
        }
      ],
      "source": [
        "prompt = '''\n",
        "Write a function to fnd the smallest missing element in \n",
        "a sored array. Your code should satisfy these tests:\n",
        "asser smallest_missing([0, 1, 2, 3, 4, 5, 6], 0, 6) == 7\n",
        "asser smallest_missing([0, 1, 2, 6, 9, 11, 15], 0, 6) == 3\n",
        "asser smallest_missing([1, 2, 3, 4, 6, 9, 11, 15], 0, 7) == 0\n",
        "'''\n",
        "code = get_code(prompt, temperature=0.3, max_tokens=128, frequency_penalty=0.5)\n",
        "for line in code:\n",
        "    print(line)"
      ]
    },
    {
      "cell_type": "code",
      "execution_count": 97,
      "metadata": {
        "colab": {
          "base_uri": "https://localhost:8080/"
        },
        "id": "WfC3eRliUJ8H",
        "outputId": "45ddfcb5-62f0-4adf-9870-6114071ff65f"
      },
      "outputs": [
        {
          "name": "stdout",
          "output_type": "stream",
          "text": [
            "def check(n):\n",
            "    if n == int(str(n)[::-1]) - 1:\n",
            "        return True\n",
            "    else:\n",
            "        return False\n",
            "    \n",
            "assert check(70) == False\n",
            "assert check(23) == False\n",
            "assert check(73) == True\n"
          ]
        }
      ],
      "source": [
        "prompt = '''Write a python function to check if a given number is \n",
        "one less than twice the value of its reverse. Your code should \n",
        "satisfy these tests:\n",
        "assert check(70) == False\n",
        "assert check(23) == False\n",
        "assert check(73) == True\n",
        "'''\n",
        "code = get_code(prompt, temperature=0.1, max_tokens=128, frequency_penalty=0.25)\n",
        "for line in code:\n",
        "    print(line)"
      ]
    },
    {
      "cell_type": "code",
      "execution_count": 99,
      "metadata": {
        "colab": {
          "base_uri": "https://localhost:8080/"
        },
        "id": "SSuLbEHkVvAp",
        "outputId": "ada6e322-bebb-42cf-afdd-3d88823fe2cd"
      },
      "outputs": [
        {
          "name": "stdout",
          "output_type": "stream",
          "text": [
            "def merge_sort(arr):\n",
            "    if len(arr) > 1:\n",
            "        mid = len(arr) // 2\n",
            "        left = arr[:mid]\n",
            "        right = arr[mid:]\n",
            "        merge_sort(left)\n",
            "        merge_sort(right)\n",
            "        i = j = k = 0\n",
            "        while i < len(left) and j < len(right):\n",
            "            if left[i] < right[j]:\n",
            "                arr[k] = left[i]\n",
            "                i += 1\n",
            "            else:\n",
            "                arr[k] = right[j]\n",
            "                j += 1\n",
            "            k += 1\n",
            "        while i < len(left):\n",
            "            arr[k] = left[i]\n",
            "            i += 1\n",
            "            k += 1\n",
            "        while j < len(right):\n",
            "            arr[k] = right[j]\n",
            "            j += 1\n",
            "            k += 1\n",
            "    return arr\n"
          ]
        }
      ],
      "source": [
        "prompt = '''Write a Python function to sort the given array \n",
        "by using merge sort. Your code should satisfy \n",
        "these tests:\n",
        "assert merge_sort([3, 4, 2, 6, 5, 7, 1, 9]) == [1, 2, 3, 4, 5, 6, 7, 9]\n",
        "assert merge_sort([7, 25, 45, 78, 11, 33, 19]) == [7, 11, 19, 25, 33, 45, 78]\n",
        "assert merge_sort([3, 1, 4, 9, 8]) == [1, 3, 4, 8, 9]\n",
        "'''\n",
        "code = get_code(prompt, temperature=0.1, max_tokens=256, frequency_penalty=0.25)\n",
        "for line in code:\n",
        "    print(line)"
      ]
    },
    {
      "cell_type": "code",
      "execution_count": 117,
      "metadata": {
        "colab": {
          "base_uri": "https://localhost:8080/"
        },
        "id": "BztePQiEV0ei",
        "outputId": "f00efd24-1082-41e1-90fb-aa8511429102"
      },
      "outputs": [
        {
          "name": "stdout",
          "output_type": "stream",
          "text": [
            "def remove_Occ(str,ch):\n",
            "    if ch in str:\n",
            "        str = str.replace(ch,'',1)\n",
            "        str = str.replace(ch,'',1)\n",
            "    return str\n",
            "print(remove_Occ('heeeello', 'e'))\n"
          ]
        }
      ],
      "source": [
        "prompt = '''Write a python function called remove_Occ to remove first and last occurrence of a\n",
        "given character from the string. \n",
        "'''\n",
        "code = get_code(prompt, temperature=0.1, max_tokens=256, frequency_penalty=0.25)\n",
        "for line in code:\n",
        "    print(line)"
      ]
    },
    {
      "cell_type": "code",
      "execution_count": 118,
      "metadata": {
        "colab": {
          "base_uri": "https://localhost:8080/"
        },
        "id": "RwBE5irva3K2",
        "outputId": "2a97232e-0ad0-47c2-ff59-b8db9367dec3"
      },
      "outputs": [
        {
          "name": "stdout",
          "output_type": "stream",
          "text": [
            "heello\n"
          ]
        }
      ],
      "source": [
        "def remove_Occ(str,ch):\n",
        "    if ch in str:\n",
        "        str = str.replace(ch,'',1)\n",
        "        str = str.replace(ch,'',1)\n",
        "    return str\n",
        "print(remove_Occ('heeeello', 'e'))"
      ]
    },
    {
      "cell_type": "code",
      "execution_count": 120,
      "metadata": {
        "colab": {
          "base_uri": "https://localhost:8080/",
          "height": 200
        },
        "id": "509k3_VtZbr-",
        "outputId": "4d3fc0c6-1dec-4ead-c596-2a2501c84726"
      },
      "outputs": [
        {
          "ename": "AssertionError",
          "evalue": "ignored",
          "output_type": "error",
          "traceback": [
            "\u001b[0;31m---------------------------------------------------------------------------\u001b[0m",
            "\u001b[0;31mAssertionError\u001b[0m                            Traceback (most recent call last)",
            "\u001b[0;32m<ipython-input-120-1c48fc5144ad>\u001b[0m in \u001b[0;36m<module>\u001b[0;34m()\u001b[0m\n\u001b[1;32m      4\u001b[0m \u001b[0;31m# Challenge test cases\u001b[0m\u001b[0;34m\u001b[0m\u001b[0;34m\u001b[0m\u001b[0;34m\u001b[0m\u001b[0m\n\u001b[1;32m      5\u001b[0m \u001b[0;32massert\u001b[0m \u001b[0mremove_Occ\u001b[0m\u001b[0;34m(\u001b[0m\u001b[0;34m\"\"\u001b[0m\u001b[0;34m,\u001b[0m \u001b[0;34m\"l\"\u001b[0m\u001b[0;34m)\u001b[0m \u001b[0;34m==\u001b[0m\u001b[0;34m\"\"\u001b[0m\u001b[0;34m\u001b[0m\u001b[0;34m\u001b[0m\u001b[0m\n\u001b[0;32m----> 6\u001b[0;31m \u001b[0;32massert\u001b[0m \u001b[0mremove_Occ\u001b[0m\u001b[0;34m(\u001b[0m\u001b[0;34m\"hellolloll\"\u001b[0m\u001b[0;34m,\u001b[0m \u001b[0;34m\"l\"\u001b[0m\u001b[0;34m)\u001b[0m \u001b[0;34m==\u001b[0m \u001b[0;34m\"helollol\"\u001b[0m\u001b[0;34m\u001b[0m\u001b[0;34m\u001b[0m\u001b[0m\n\u001b[0m",
            "\u001b[0;31mAssertionError\u001b[0m: "
          ]
        }
      ],
      "source": [
        "assert remove_Occ(\"hello\",\"l\") == \"heo\"\n",
        "assert remove_Occ(\"abcda\",\"a\") == \"bcd\"\n",
        "assert remove_Occ(\"PHP\",\"P\") == \"H\"\n",
        "# Challenge test cases\n",
        "assert remove_Occ(\"\", \"l\") ==\"\"\n",
        "assert remove_Occ(\"hellolloll\", \"l\") == \"helollol\""
      ]
    },
    {
      "cell_type": "code",
      "execution_count": 124,
      "metadata": {
        "colab": {
          "base_uri": "https://localhost:8080/"
        },
        "id": "Ws0i5TGgZnh9",
        "outputId": "c907cb02-91bc-457a-9c4b-122c00d21af3"
      },
      "outputs": [
        {
          "name": "stdout",
          "output_type": "stream",
          "text": [
            "def find_duplicate(arr):\n",
            "    \"\"\"\n",
            "    >>> find_duplicate([1, 2, 3, 4, 5, 6, 7, 8, 9, 10, 9])\n",
            "    9\n",
            "    >>> find_duplicate([1, 2, 3, 4, 5, 6, 7, 8, 9])\n",
            "    \"\"\"\n",
            "    for i in range(len(arr)):\n",
            "        if arr[abs(arr[i])] >= 0:\n",
            "            arr[abs(arr[i])] = -arr[abs(arr[i])]\n",
            "        else:\n",
            "            return abs(arr[i])\n",
            "    return None\n",
            "if __name__ == \"__main__\":\n",
            "    import doctest\n",
            "    doctest.testmod()\n"
          ]
        }
      ],
      "source": [
        "prompt = '''Given a list of integers where each integer points to an index in the list, find a duplicate element in the list if it exists in O(n) time\n",
        "'''\n",
        "code = get_code(prompt, temperature=0.1, max_tokens=256, frequency_penalty=0.25)\n",
        "for line in code:\n",
        "    print(line)"
      ]
    },
    {
      "cell_type": "code",
      "execution_count": 125,
      "metadata": {
        "colab": {
          "base_uri": "https://localhost:8080/"
        },
        "id": "0xcZmzI3Ztay",
        "outputId": "d34126ae-7708-4dd3-8598-1cb328dd4b97"
      },
      "outputs": [
        {
          "name": "stdout",
          "output_type": "stream",
          "text": [
            "def check_fscore(model, dataset, labels):\n",
            "    \"\"\"\n",
            "    :param model: machine learning model\n",
            "    :param dataset: dataset of examples\n",
            "    :param labels: array of labels\n",
            "    :return: True if F-score is better than accuracy, False otherwise\n",
            "    \"\"\"\n",
            "    # TODO: check if F-score is better than accuracy\n",
            "    f_score = f1_score(labels, model.predict(dataset), average='weighted')\n",
            "    accuracy = accuracy_score(labels, model.predict(dataset))\n",
            "    return f_score > accuracy\n"
          ]
        }
      ],
      "source": [
        "prompt = '''Function that determines takes as input a machine learning model, a dataset of examples and an array of labels.\n",
        "Check whether the model's F-score on the dataset is better than its accuracy. Use scikit learn\n",
        "'''\n",
        "code = get_code(prompt, temperature=0.1, max_tokens=256, frequency_penalty=0.25)\n",
        "for line in code:\n",
        "    print(line)"
      ]
    },
    {
      "cell_type": "code",
      "execution_count": 126,
      "metadata": {
        "colab": {
          "base_uri": "https://localhost:8080/"
        },
        "id": "qryDpRJPcd9X",
        "outputId": "45f99afd-4c6e-4b3b-e8d8-289366a17eff"
      },
      "outputs": [
        {
          "name": "stdout",
          "output_type": "stream",
          "text": [
            "Test 1:\n",
            "    model = LogisticRegression()\n",
            "    dataset = np.array([[1, 2], [3, 4]])\n",
            "    labels = np.array([0, 1])\n",
            "    assert check_fscore(model, dataset, labels) == True\n",
            "\"\"\"\n",
            "\"\"\"\n",
            "Test 2:\n",
            "    model = LogisticRegression()\n",
            "    dataset = np.array([[1, 2], [3, 4]])\n",
            "    labels = np.array([0, 0])\n",
            "    assert check_fscore(model, dataset, labels) == False\n",
            "\"\"\"\n",
            "\"\"\"\n",
            "Test 3:\n",
            "    model = LogisticRegression()\n",
            "    dataset = np.array([[1, 2], [3, 4]])\n",
            "    labels = np.array([0])\n",
            "    assert check_fscore(model, dataset, labels) == False\n",
            "\"\"\"\n"
          ]
        }
      ],
      "source": [
        "prompt = '''\n",
        "def check_fscore(model, dataset, labels):\n",
        "    \"\"\"\n",
        "    :param model: machine learning model\n",
        "    :param dataset: dataset of examples\n",
        "    :param labels: array of labels\n",
        "    :return: True if F-score is better than accuracy, False otherwise\n",
        "    \"\"\"\n",
        "    # TODO: check if F-score is better than accuracy\n",
        "    f_score = f1_score(labels, model.predict(dataset), average='weighted')\n",
        "    accuracy = accuracy_score(labels, model.predict(dataset))\n",
        "    return f_score > accuracy\n",
        "\n",
        "# Write 5 different unit tests for check_fscore\n",
        "'''\n",
        "code = get_code(prompt, temperature=0.1, max_tokens=256, frequency_penalty=0.25)\n",
        "for line in code:\n",
        "    print(line)"
      ]
    },
    {
      "cell_type": "code",
      "execution_count": 128,
      "metadata": {
        "colab": {
          "base_uri": "https://localhost:8080/"
        },
        "id": "50pdKu02crte",
        "outputId": "286b9396-a966-42c9-e0d1-38c126174dcf"
      },
      "outputs": [
        {
          "name": "stdout",
          "output_type": "stream",
          "text": [
            "import random\n",
            "import math\n",
            "def uniform_distribution(n):\n",
            "    \"\"\"Generate n random numbers between 0 and 1\"\"\"\n",
            "    return [random.random() for i in range(n)]\n",
            "def calculate_pi(n):\n",
            "    \"\"\"Calculate pi using the uniform distribution\"\"\"\n",
            "    points_in_circle = 0\n",
            "    for point in uniform_distribution(n):\n",
            "        x = point[0]\n",
            "        y = point[1]\n",
            "        if math.sqrt((x ** 2) + (y ** 2)) <= 1:\n",
            "            points_in_circle += 1\n",
            "    return 4 * (points_in_circle / n)\n"
          ]
        }
      ],
      "source": [
        "prompt = '''Calculate the value of pi if you are given a function that generates a uniform distribution between 0 and 1'''\n",
        "code = get_code(prompt, temperature=0.1, max_tokens=256, frequency_penalty=0.25)\n",
        "for line in code:\n",
        "    print(line)"
      ]
    },
    {
      "cell_type": "code",
      "execution_count": 149,
      "metadata": {
        "colab": {
          "base_uri": "https://localhost:8080/"
        },
        "id": "36ocwNaXdRnA",
        "outputId": "c97c0038-aefb-4c2b-d81f-25f075550bed"
      },
      "outputs": [
        {
          "name": "stdout",
          "output_type": "stream",
          "text": [
            "def product(x,y,z,w):\n",
            "    y = y + 3\n",
            "    x = x - 4\n",
            "    w = w - 4\n",
            "    return x*y*z*w\n",
            "print(product(1,2,3,4))\n"
          ]
        }
      ],
      "source": [
        "prompt = '''Write a python function that takes input of 4 numbers: x,y,z,w\n",
        "Add 3 to y, then subtract 4 from both x and w. Return the product of the four numbers.\n",
        "'''\n",
        "code = get_code(prompt, temperature=0, max_tokens=64, frequency_penalty=0.25, best_of=5)\n",
        "for line in code:\n",
        "    print(line)"
      ]
    },
    {
      "cell_type": "code",
      "execution_count": 152,
      "metadata": {
        "colab": {
          "base_uri": "https://localhost:8080/"
        },
        "id": "HEXOPDI8euMU",
        "outputId": "6dfdb61f-a3b4-4aa9-a353-82909033b9e1"
      },
      "outputs": [
        {
          "name": "stdout",
          "output_type": "stream",
          "text": [
            "def remove_duplicate_lines(string):\n",
            "    lines = string.split('\\n')\n",
            "    unique_lines = []\n",
            "    for line in lines:\n",
            "        if line not in unique_lines:\n",
            "            unique_lines.append(line)\n",
            "    return '\\n'.\n"
          ]
        }
      ],
      "source": [
        "prompt = '''Function to eliminate duplicate lines from multiline string'''\n",
        "code = get_code(prompt, temperature=0, max_tokens=64, frequency_penalty=0.25, best_of=5)\n",
        "for line in code:\n",
        "    print(line)"
      ]
    },
    {
      "cell_type": "code",
      "execution_count": null,
      "metadata": {
        "id": "zKmnUaUIhR8f"
      },
      "outputs": [],
      "source": []
    }
  ],
  "metadata": {
    "colab": {
      "authorship_tag": "ABX9TyPEjEs7AOlXYVuiLV8y8z50",
      "collapsed_sections": [],
      "include_colab_link": true,
      "name": "OpenAI-Codex.ipynb",
      "provenance": []
    },
    "kernelspec": {
      "display_name": "Python 3",
      "name": "python3"
    },
    "language_info": {
      "name": "python"
    }
  },
  "nbformat": 4,
  "nbformat_minor": 0
}
