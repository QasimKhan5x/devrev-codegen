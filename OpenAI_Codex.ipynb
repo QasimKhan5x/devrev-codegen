{
  "nbformat": 4,
  "nbformat_minor": 0,
  "metadata": {
    "colab": {
      "name": "OpenAI-Codex.ipynb",
      "provenance": [],
      "collapsed_sections": [],
      "authorship_tag": "ABX9TyNqLGqGPQrSIn/OKZDlko7w",
      "include_colab_link": true
    },
    "kernelspec": {
      "name": "python3",
      "display_name": "Python 3"
    },
    "language_info": {
      "name": "python"
    }
  },
  "cells": [
    {
      "cell_type": "markdown",
      "metadata": {
        "id": "view-in-github",
        "colab_type": "text"
      },
      "source": [
        "<a href=\"https://colab.research.google.com/github/QasimKhan5x/devrev-openai-codegen-codex/blob/main/OpenAI_Codex.ipynb\" target=\"_parent\"><img src=\"https://colab.research.google.com/assets/colab-badge.svg\" alt=\"Open In Colab\"/></a>"
      ]
    },
    {
      "cell_type": "code",
      "execution_count": null,
      "metadata": {
        "id": "xbxewwwCJzsB"
      },
      "outputs": [],
      "source": [
        "#!pip install -U pip setuptools wheel\n",
        "#!pip install -U spacy\n",
        "#!python -m spacy download en_core_web_sm\n",
        "#!pip install python-dotenv\n",
        "!pip install openai"
      ]
    },
    {
      "cell_type": "code",
      "source": [
        "import openai"
      ],
      "metadata": {
        "id": "hDXd_KzSXio_"
      },
      "execution_count": 1,
      "outputs": []
    },
    {
      "cell_type": "markdown",
      "source": [
        "```\n",
        "import os\n",
        "from dotenv import load_dotenv\n",
        "\n",
        "load_dotenv()  # take environment variables from .env.\n",
        "\n",
        "openai.api_key = os.environ.get(\"OPENAI_API_KEY\")\n",
        "```"
      ],
      "metadata": {
        "id": "Xi9Jn1ywKWgQ"
      }
    },
    {
      "cell_type": "code",
      "source": [
        "openai.api_key = \"\""
      ],
      "metadata": {
        "id": "mmTL8oIfXkUX"
      },
      "execution_count": 2,
      "outputs": []
    },
    {
      "cell_type": "code",
      "source": [
        "def get_code(prompt, temperature=0, max_tokens=64):\n",
        "    prompt = f'\"\"\"{prompt}\"\"\"'\n",
        "    result = openai.Completion.create(\n",
        "        engine=\"code-davinci-001\",\n",
        "        prompt=prompt,\n",
        "        temperature=temperature,\n",
        "        max_tokens=max_tokens\n",
        "        )\n",
        "    code = result[\"choices\"][0][\"text\"].split(\"\\n\")\n",
        "    code = list(filter(lambda x: x != '', code))\n",
        "    return code"
      ],
      "metadata": {
        "id": "ZQY9y77w7bw8"
      },
      "execution_count": 47,
      "outputs": []
    },
    {
      "cell_type": "code",
      "source": [
        "prompt = 'Python code to get the date of today and one month before today'\n",
        "code = get_code(prompt)\n",
        "for line in code:\n",
        "    print(line)"
      ],
      "metadata": {
        "colab": {
          "base_uri": "https://localhost:8080/"
        },
        "id": "C7Z7U6ZGUvgE",
        "outputId": "ef5f5f37-2937-45c5-a895-5f48dbbaae65"
      },
      "execution_count": 14,
      "outputs": [
        {
          "output_type": "stream",
          "name": "stdout",
          "text": [
            "import datetime\n",
            "def get_date():\n",
            "    \"\"\"Get the date of today and one month before today\"\"\"\n",
            "    today = datetime.date.today()\n",
            "    one_month_before = today - datetime.timedelta(days=30)\n",
            "    return one_month_before\n"
          ]
        }
      ]
    },
    {
      "cell_type": "code",
      "source": [
        "prompt = '''Write a function that classifies the sentiment of a tweet'''\n",
        "code = get_code(prompt, temperature=0.25, max_tokens=256)\n",
        "for line in code:\n",
        "    print(line)"
      ],
      "metadata": {
        "colab": {
          "base_uri": "https://localhost:8080/"
        },
        "id": "Kn5qetqg-JFF",
        "outputId": "ad4e7fdc-16b6-4a6b-8271-f940ed1739b0"
      },
      "execution_count": 58,
      "outputs": [
        {
          "output_type": "stream",
          "name": "stdout",
          "text": [
            "import re\n",
            "import sys\n",
            "import json\n",
            "#Read the AFINN-111 data into a dictionary\n",
            "def sentiment_dict(afinnfile):\n",
            "    afinnfile = open(sys.argv[1])\n",
            "    scores = {} # initialize an empty dictionary\n",
            "    for line in afinnfile:\n",
            "        term, score  = line.split(\"\\t\")  # The file is tab-delimited. \"\\t\" means \"tab character\"\n",
            "        scores[term] = int(score)  # Convert the score to an integer.\n",
            "    return scores\n",
            "#Classify the sentiment of a tweet based on the sentiment scores of the terms in the tweet\n",
            "def tweet_sentiment(tweet, scores):\n",
            "    tweet_score = 0\n",
            "    for term in tweet:\n",
            "        if term in scores:\n",
            "            tweet_score += scores[term]\n",
            "    return tweet_score\n",
            "#Read the tweets into a list\n",
            "def tweet_dict(tweet_file):\n",
            "    tweets = []\n",
            "    for line in tweet_file:\n",
            "        tweets.append(json.loads(line))\n",
            "    return tweets\n",
            "def main():\n",
            "    sent_file =\n"
          ]
        }
      ]
    },
    {
      "cell_type": "code",
      "source": [
        "prompt = '''\n",
        "Input is an object representing a Deterministic Finite Automation.\n",
        "Write a function that converts the Deterministic Finite Automation to a regular expression\n",
        "Return the regular expression\n",
        "'''\n",
        "code = get_code(prompt, temperature=0.25, max_tokens=256)\n",
        "for line in code:\n",
        "    print(line)"
      ],
      "metadata": {
        "colab": {
          "base_uri": "https://localhost:8080/"
        },
        "id": "TqTCKS4dEnUh",
        "outputId": "4fbf7dce-f085-4309-eac2-800c72e58a78"
      },
      "execution_count": 54,
      "outputs": [
        {
          "output_type": "stream",
          "name": "stdout",
          "text": [
            "import re\n",
            "def dfa_to_regex(dfa):\n",
            "    # Write your code here\n",
            "    # To print results to the standard output you can use print\n",
            "    # Example: print \"Hello world!\"\n",
            "    # TODO: Implement the conversion from DFA to regular expression\n",
            "    # and return the regular expression\n",
            "    return \"^(0|1)*$\"\n"
          ]
        }
      ]
    },
    {
      "cell_type": "code",
      "source": [
        "prompt = 'Use pandas to create a dataframe containing the names of all months'\n",
        "code = get_code(prompt, temperature=0.1, max_tokens=128, enclose=True)\n",
        "for line in code:\n",
        "    print(line)"
      ],
      "metadata": {
        "colab": {
          "base_uri": "https://localhost:8080/"
        },
        "id": "DpJX6PRBAWRk",
        "outputId": "0b3058ca-7c99-4b53-a9a7-dd9f454d4ae9"
      },
      "execution_count": 26,
      "outputs": [
        {
          "output_type": "stream",
          "name": "stdout",
          "text": [
            "import pandas as pd\n",
            "months = pd.DataFrame([\"January\", \"February\", \"March\", \"April\", \"May\", \"June\", \"July\", \"August\", \"September\", \"October\", \"November\", \"December\"], columns=[\"Month\"])\n",
            "print(months)\n"
          ]
        }
      ]
    },
    {
      "cell_type": "code",
      "source": [
        "prompt = 'PyTorch implementation for the Vision Transformer trained on ImageNet dataset'\n",
        "code = get_code(prompt, temperature=0.1, max_tokens=2048, enclose=True)\n",
        "for line in code:\n",
        "    print(line)"
      ],
      "metadata": {
        "id": "DwjUO7f4_Y-G"
      },
      "execution_count": null,
      "outputs": []
    },
    {
      "cell_type": "code",
      "source": [
        "prompt = '''// Rewrite this as a React component\n",
        "var input = document.createElement('input');\n",
        "input.setAttribute('type', 'text');\n",
        "document.body.appendChild(input);\n",
        "var button = document.createElement('button');\n",
        "button.innerHTML = 'Say Hello';\n",
        "document.body.appendChild(button);\n",
        "button.onclick = function() {\n",
        "  var name = input.value;\n",
        "  var hello = document.createElement('div');\n",
        "  hello.innerHTML = 'Hello ' + name;\n",
        "  document.body.appendChild(hello);\n",
        "};\n",
        "\n",
        "// React version:\n",
        "'''\n",
        "code = get_code(prompt, temperature=0, max_tokens=256)\n",
        "for line in code:\n",
        "    print(line)"
      ],
      "metadata": {
        "colab": {
          "base_uri": "https://localhost:8080/"
        },
        "id": "fY9dja9YAyaO",
        "outputId": "9afb654f-5b67-491c-97dc-9ea90f2c34e4"
      },
      "execution_count": 61,
      "outputs": [
        {
          "output_type": "stream",
          "name": "stdout",
          "text": [
            "class HelloWorld(ReactComponent):\n",
            "    def render(self):\n",
            "        return 'Hello ', self.props.name\n",
            "hello = HelloWorld(name='World')\n",
            "hello.render()\n",
            "\"\"\"// React version:\n",
            "var HelloWorld = React.createClass({\n",
            "  render: function() {\n",
            "    return 'Hello ', this.props.name;\n",
            "  }\n",
            "});\n",
            "var hello = <HelloWorld name=\"World\" />;\n",
            "React.render(hello, document.body);\n",
            "\"\"\"\n"
          ]
        }
      ]
    },
    {
      "cell_type": "code",
      "source": [
        "prompt = "
      ],
      "metadata": {
        "id": "CkmutZY-CT79"
      },
      "execution_count": null,
      "outputs": []
    }
  ]
}